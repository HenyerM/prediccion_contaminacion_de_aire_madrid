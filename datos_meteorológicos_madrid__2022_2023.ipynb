{
  "nbformat": 4,
  "nbformat_minor": 0,
  "metadata": {
    "colab": {
      "provenance": []
    },
    "kernelspec": {
      "name": "python3",
      "display_name": "Python 3"
    },
    "language_info": {
      "name": "python"
    }
  },
  "cells": [
    {
      "cell_type": "markdown",
      "source": [],
      "metadata": {
        "id": "aRtAazvZZjHk"
      }
    },
    {
      "cell_type": "code",
      "execution_count": null,
      "metadata": {
        "colab": {
          "base_uri": "https://localhost:8080/"
        },
        "id": "HIdqbDCeAecu",
        "outputId": "bd784730-5a1b-416a-fcec-54ce878ea533"
      },
      "outputs": [
        {
          "output_type": "stream",
          "name": "stdout",
          "text": [
            "Requirement already satisfied: pandas in /usr/local/lib/python3.11/dist-packages (2.2.2)\n",
            "Requirement already satisfied: openpyxl in /usr/local/lib/python3.11/dist-packages (3.1.5)\n",
            "Requirement already satisfied: numpy>=1.23.2 in /usr/local/lib/python3.11/dist-packages (from pandas) (2.0.2)\n",
            "Requirement already satisfied: python-dateutil>=2.8.2 in /usr/local/lib/python3.11/dist-packages (from pandas) (2.9.0.post0)\n",
            "Requirement already satisfied: pytz>=2020.1 in /usr/local/lib/python3.11/dist-packages (from pandas) (2025.2)\n",
            "Requirement already satisfied: tzdata>=2022.7 in /usr/local/lib/python3.11/dist-packages (from pandas) (2025.2)\n",
            "Requirement already satisfied: et-xmlfile in /usr/local/lib/python3.11/dist-packages (from openpyxl) (2.0.0)\n",
            "Requirement already satisfied: six>=1.5 in /usr/local/lib/python3.11/dist-packages (from python-dateutil>=2.8.2->pandas) (1.17.0)\n"
          ]
        }
      ],
      "source": [
        "#Descargar libreria openpyxl\n",
        "! pip install pandas openpyxl"
      ]
    },
    {
      "cell_type": "code",
      "source": [
        "# Mostrar estaciones cercanas al centro de Madrid\n",
        "conn = http.client.HTTPSConnection(\"meteostat.p.rapidapi.com\")\n",
        "\n",
        "headers = {\n",
        "    'x-rapidapi-key': \"154b80484emshe3ce7daf059987fp1aa866jsnc8527d11bc0b\",\n",
        "    'x-rapidapi-host': \"meteostat.p.rapidapi.com\"\n",
        "}\n",
        "\n",
        "conn.request(\"GET\", \"/stations/nearby?lat=40.4167&lon=-3.7033\", headers=headers) #usando coordinadas encontradas en internet como referencia\n",
        "\n",
        "res = conn.getresponse()\n",
        "data = res.read()\n",
        "print(data.decode(\"utf-8\"))\n"
      ],
      "metadata": {
        "colab": {
          "base_uri": "https://localhost:8080/"
        },
        "id": "bQUKkngudlyk",
        "outputId": "e4c94bec-3d31-4120-c993-625fab53b4c0"
      },
      "execution_count": null,
      "outputs": [
        {
          "output_type": "stream",
          "name": "stdout",
          "text": [
            "{\"meta\":{\"generated\":\"2025-06-24 15:04:07\"},\"data\":[{\"id\":\"08222\",\"name\":{\"en\":\"Madrid\"},\"distance\":1735.5},{\"id\":\"08223\",\"name\":{\"en\":\"Madrid / Cuatro Vientos\"},\"distance\":7693.8},{\"id\":\"08224\",\"name\":{\"en\":\"Madrid / Getafe\"},\"distance\":13033.6},{\"id\":\"08221\",\"name\":{\"en\":\"Madrid / Barajas\"},\"distance\":13530.6},{\"id\":\"LEMM0\",\"name\":{\"en\":\"Madrid / Barajas de Madrid\"},\"distance\":13766.9},{\"id\":\"08227\",\"name\":{\"en\":\"Madrid / Torrejon\"},\"distance\":22712.9},{\"id\":\"08219\",\"name\":{\"en\":\"Madri-Colmenar\"},\"distance\":26050.4},{\"id\":\"08215\",\"name\":{\"en\":\"Navacerrada\"},\"distance\":48565.9},{\"id\":\"08226\",\"name\":{\"en\":\"Guadalajara\"},\"distance\":53216.1},{\"id\":\"08272\",\"name\":{\"en\":\"Toledo\"},\"distance\":66218.8}]}\n"
          ]
        }
      ]
    },
    {
      "cell_type": "markdown",
      "source": [
        "Observamos que aunque contamos con 15 estaciones meteorológicas tomados por el gobierno de España, con meteostat app,  sólo contamos con 4 estaciones:\n",
        "\n",
        "### Estaciones meteorológicas cercanas a la localización seleccionada\n",
        "\n",
        "| ID     | Nombre                      | Distancia (m) |\n",
        "|--------|-----------------------------|----------------|\n",
        "| 08222  | Madrid                      | 1,735.5        |\n",
        "| 08223  | Madrid / Cuatro Vientos     | 7,693.8        |\n",
        "| 08224  | Madrid / Getafe             | 13,033.6       |\n",
        "| 08221  | Madrid / Barajas            | 13,530.6       |\n",
        "| LEMM0  | Madrid / Barajas de Madrid  | 13,766.9       |\n",
        "| 08227  | Madrid / Torrejón           | 22,712.9       |\n",
        "| 08219  | Madri-Colmenar              | 26,050.4       |\n",
        "| 08215  | Navacerrada                 | 48,565.9       |\n",
        "| 08226  | Guadalajara                 | 53,216.1       |\n",
        "| 08272  | Toledo                      | 66,218.8       |\n",
        "\n",
        "Vamos ahora a buscar las localizaciones exactas para cada una:\n"
      ],
      "metadata": {
        "id": "1YN-JpdYfOa4"
      }
    },
    {
      "cell_type": "code",
      "source": [
        "import http.client\n",
        "import json\n",
        "\n",
        "station_ids = [\n",
        "    \"08222\", \"08223\", \"08224\", \"08221\", \"LEMM0\",\n",
        "    \"08227\", \"08219\", \"08215\", \"08226\", \"08272\"\n",
        "]\n",
        "\n",
        "headers = {\n",
        "    \"x-rapidapi-key\": \"\",\n",
        "    \"x-rapidapi-host\": \"meteostat.p.rapidapi.com\"\n",
        "}\n",
        "\n",
        "conn = http.client.HTTPSConnection(\"meteostat.p.rapidapi.com\")\n",
        "\n",
        "for sid in station_ids:\n",
        "    conn.request(\"GET\", f\"/stations/meta?id={sid}\", headers=headers)\n",
        "    res = conn.getresponse()\n",
        "    data = json.loads(res.read().decode(\"utf-8\"))\n",
        "    station = data.get(\"data\")\n",
        "    if station:\n",
        "        name = station.get(\"name\", {}).get(\"en\", \"\")\n",
        "        loc = station.get(\"location\", {})\n",
        "        print(f\"{sid} - {name}\")\n",
        "        print(f\"  Latitud:  {loc.get('latitude')}\")\n",
        "        print(f\"  Longitud: {loc.get('longitude')}\")\n",
        "        print(f\"  Altitud:  {loc.get('elevation')} m\\n\")\n",
        "    else:\n",
        "        print(f\"{sid} - No hay datos\\n\")\n",
        "\n",
        "conn.close()\n"
      ],
      "metadata": {
        "colab": {
          "base_uri": "https://localhost:8080/"
        },
        "id": "LDoQztXphJbh",
        "outputId": "646c75cc-e849-498e-85d8-33511c649633"
      },
      "execution_count": null,
      "outputs": [
        {
          "output_type": "stream",
          "name": "stdout",
          "text": [
            "08222 - Madrid\n",
            "  Latitud:  40.4167\n",
            "  Longitud: -3.6833\n",
            "  Altitud:  655 m\n",
            "\n",
            "08223 - Madrid / Cuatro Vientos\n",
            "  Latitud:  40.3833\n",
            "  Longitud: -3.7833\n",
            "  Altitud:  690 m\n",
            "\n",
            "08224 - Madrid / Getafe\n",
            "  Latitud:  40.3\n",
            "  Longitud: -3.7167\n",
            "  Altitud:  620 m\n",
            "\n",
            "08221 - Madrid / Barajas\n",
            "  Latitud:  40.45\n",
            "  Longitud: -3.55\n",
            "  Altitud:  609 m\n",
            "\n",
            "LEMM0 - Madrid / Barajas de Madrid\n",
            "  Latitud:  40.5\n",
            "  Longitud: -3.5833\n",
            "  Altitud:  633 m\n",
            "\n",
            "08227 - Madrid / Torrejon\n",
            "  Latitud:  40.4833\n",
            "  Longitud: -3.45\n",
            "  Altitud:  607 m\n",
            "\n",
            "08219 - Madri-Colmenar\n",
            "  Latitud:  40.65\n",
            "  Longitud: -3.7333\n",
            "  Altitud:  0 m\n",
            "\n",
            "08215 - Navacerrada\n",
            "  Latitud:  40.7833\n",
            "  Longitud: -4.0167\n",
            "  Altitud:  1894 m\n",
            "\n",
            "08226 - Guadalajara\n",
            "  Latitud:  40.6667\n",
            "  Longitud: -3.1667\n",
            "  Altitud:  639 m\n",
            "\n",
            "08272 - Toledo\n",
            "  Latitud:  39.8833\n",
            "  Longitud: -4.05\n",
            "  Altitud:  515 m\n",
            "\n"
          ]
        }
      ]
    },
    {
      "cell_type": "markdown",
      "source": [
        "Si tomamos las coordenadas de las estaciones obtenidas por meteostat y las comparamos con las coordenadas de las estaciones de la página del Ministerio para la transición ecológica y el reto demográfico de España, podemos observar cuales estaciones de Meteostat parecen estar más cercanas.\n",
        "\n",
        "### 🏙️ Estaciones del Ayuntamiento de Madrid con su estación Meteostat más cercana\n",
        "\n",
        "| COD_LOCAL | LATITUD   | LONGITUD | PROVINCIA | MUNICIPIO | ESTACIÓN | CÓDIGO ESTACIÓN | NOMBRE                                | CÓDIGO METEOSTAT | ESTACIÓN METEOSTAT MÁS CERCANA       |\n",
        "|-----------|-----------|----------|-----------|-----------|----------|------------------|----------------------------------------|------------------|---------------------------------------|\n",
        "| 28079004  | 40.42417  | -3.71222 | MADRID    | MADRID    | 4        | ES0115A          | PLAZA DE ESPAÑA                        | 08222           | Madrid                                |\n",
        "| 28079008  | 40.42167  | -3.68222 | MADRID    | MADRID    | 8        | ES0118A          | ESCUELAS AGUIRRE                       | 08222           | Madrid                                |\n",
        "| 28079011  | 40.45167  | -3.67722 | MADRID    | MADRID    | 11       | ES0120A          | RAMÓN Y CAJAL                          | 08222           | Madrid                                |\n",
        "| 28079016  | 40.44     | -3.63917 | MADRID    | MADRID    | 16       | ES0124A          | ARTURO SORIA                           | 08222           | Madrid                                |\n",
        "| 28079017  | 40.34694  | -3.705   | MADRID    | MADRID    | 17       | ES0125A          | VILLAVERDE                             | 08224           | Madrid / Getafe                       |\n",
        "| 28079018  | 40.39472  | -3.73194 | MADRID    | MADRID    | 18       | ES0126A          | FAROLILLO                              | 08223           | Madrid / Cuatro Vientos              |\n",
        "| 28079024  | 40.42     | -3.74917 | MADRID    | MADRID    | 24       | ES1193A          | CASA DE CAMPO                          | 08223           | Madrid / Cuatro Vientos              |\n",
        "| 28079027  | 40.47472  | -3.575   | MADRID    | MADRID    | 27       | ES1645A          | BARAJAS - PUEBLO                       | LEMM0           | Madrid / Barajas de Madrid           |\n",
        "| 28079035  | 40.41917  | -3.70333 | MADRID    | MADRID    | 35       | ES1422A          | PLAZA DEL CARMEN                       | 08222           | Madrid                                |\n",
        "| 28079036  | 40.40806  | -3.64528 | MADRID    | MADRID    | 36       | ES1426A          | MORATALAZ                              | 08222           | Madrid                                |\n",
        "| 28079038  | 40.44528  | -3.70639 | MADRID    | MADRID    | 38       | ES1525A          | CUATRO CAMINOS-PABLO IGLESIAS         | 08222           | Madrid                                |\n",
        "| 28079039  | 40.47833  | -3.71139 | MADRID    | MADRID    | 39       | ES1521A          | BARRIO DEL PILAR                       | 08221           | Madrid / Barajas                      |\n",
        "| 28079040  | 40.38806  | -3.65139 | MADRID    | MADRID    | 40       | ES1532A          | PUENTE DE VALLECAS                     | 08224           | Madrid / Getafe                       |\n",
        "| 28079044  | 40.49083  | -3.72111 | MADRID    | MADRID    | 44       | ES1893A          | CENTRO CULTURAL ALFREDO KRAUSS        | 08221           | Madrid / Barajas                      |\n",
        "| 28079045  | 40.39861  | -3.63694 | MADRID    | MADRID    | 45       | ES1894A          | JUNTA MUNICIPAL DE MORATALAZ          | 08222           | Madrid                                |\n",
        "| 28079047  | 40.39806  | -3.68667 | MADRID    | MADRID    | 47       | ES1937A          | MENDEZ ALVARO                          | 08222           | Madrid                                |\n",
        "| 28079048  | 40.43972  | -3.69028 | MADRID    | MADRID    | 48       | ES1938A          | CASTELLANA                             | 08222           | Madrid                                |\n",
        "| 28079049  | 40.40972  | -3.68556 | MADRID    | MADRID    | 49       | ES1939A          | RETIRO                                 | 08222           | Madrid                                |\n",
        "| 28079050  | 40.46583  | -3.68833 | MADRID    | MADRID    | 50       | ES1940A          | PLAZA CASTILLA-CANAL                   | 08221           | Madrid / Barajas                      |\n",
        "| 28079054  | 40.37278  | -3.61194 | MADRID    | MADRID    | 54       | ES1941A          | ENSANCHE DE VALLECAS                   | 08224           | Madrid / Getafe                       |\n",
        "| 28079055  | 40.4625   | -3.58056 | MADRID    | MADRID    | 55       | ES1942A          | URBANIZACION EMBAJADA                 | LEMM0           | Madrid / Barajas de Madrid           |\n",
        "| 28079056  | 40.3847   | -3.7186  | MADRID    | MADRID    | 56       | ES1943A          | PLAZA ELÍPTICA                         | 08223           | Madrid / Cuatro Vientos              |\n",
        "| 28079057  | 40.49417  | -3.66028 | MADRID    | MADRID    | 57       | ES1944A          | SANCHINARRO                            | 08221           | Madrid / Barajas                      |\n",
        "| 28079058  | 40.51806  | -3.77444 | MADRID    | MADRID    | 58       | ES1945A          | EL PARDO                               | 08221           | Madrid / Barajas                      |\n",
        "| 28079059  | 40.465    | -3.60889 | MADRID    | MADRID    | 59       | ES1946A          | JUAN CARLOS I                          | LEMM0           | Madrid / Barajas de Madrid           |\n",
        "| 28079060  | 40.50056  | -3.68972 | MADRID    | MADRID    | 60       | ES1947A          | TRES OLIVOS                            | 08221           | Madrid / Barajas                      |\n",
        "| 28079061  | 40.4025   | -3.695   | MADRID    | MADRID    | 61       | ES1998A          | CENTRO INTEGRADO ARGANZUELA           | 08222           | Madrid                                |"
      ],
      "metadata": {
        "id": "u99uiw2nkDl_"
      }
    },
    {
      "cell_type": "markdown",
      "source": [
        "Debido a esto concluimos que las estaciones a utilizar para nuestro análisis en Madrid seran las siguientes:\n",
        "\n",
        "###  Estaciones Meteostat a utilizar\n",
        "\n",
        "| Código Meteostat | Nombre                       | Latitud   | Longitud  | Altitud (m) |\n",
        "|------------------|------------------------------|-----------|-----------|-------------|\n",
        "| 08222            | Madrid                       | 40.4167   | -3.6833   | 655         |\n",
        "| 08223            | Madrid / Cuatro Vientos      | 40.3833   | -3.7833   | 690         |\n",
        "| 08224            | Madrid / Getafe              | 40.3000   | -3.7167   | 620         |\n",
        "| 08221            | Madrid / Barajas             | 40.4500   | -3.5500   | 609         |\n",
        "| LEMM0            | Madrid / Barajas de Madrid   | 40.5000   | -3.5833   | 633         |"
      ],
      "metadata": {
        "id": "Iqsl3ya1153l"
      }
    },
    {
      "cell_type": "code",
      "source": [
        "import http.client, json, pandas as pd\n",
        "from datetime import datetime, timedelta\n",
        "import time\n",
        "\n",
        "# Lista de estaciones meteorológicas de Madrid\n",
        "stations = [\"08222\", \"08223\", \"08224\", \"08221\", \"LEMM0\"]\n",
        "\n",
        "# Rango de fechas: 1 enero 2022 al 31 diciembre 2023\n",
        "start_date = datetime(2022, 1, 1)\n",
        "end_date = datetime(2023, 12, 31)\n",
        "\n",
        "# Cabeceras de autenticación para RapidAPI\n",
        "headers = {\n",
        "    'x-rapidapi-key': \"\",\n",
        "    'x-rapidapi-host': \"meteostat.p.rapidapi.com\"\n",
        "}\n",
        "\n",
        "# Devuelve el último día del mes dado\n",
        "def last_day(date):\n",
        "    return (date.replace(day=28) + timedelta(days=4)).replace(day=1) - timedelta(days=1)\n",
        "\n",
        "# Llama a la API con hasta 3 reintentos en caso de error\n",
        "def fetch_json(url):\n",
        "    for _ in range(3):\n",
        "        try:\n",
        "            conn = http.client.HTTPSConnection(\"meteostat.p.rapidapi.com\")\n",
        "            conn.request(\"GET\", url, headers=headers)\n",
        "            res = conn.getresponse()\n",
        "            data = res.read()\n",
        "            conn.close()\n",
        "            return json.loads(data.decode(\"utf-8\"))\n",
        "        except:\n",
        "            time.sleep(1)\n",
        "    return None\n",
        "\n",
        "# Lista para guardar todos los DataFrames mensuales\n",
        "all_data = []\n",
        "\n",
        "# Iterar por estación y por mes\n",
        "for station in stations:\n",
        "    current = start_date\n",
        "    while current <= end_date:\n",
        "        start = current.replace(day=1)\n",
        "        end = last_day(start)\n",
        "        if end > end_date:\n",
        "            end = end_date\n",
        "\n",
        "        url = f\"/stations/hourly?station={station}&start={start.date()}&end={end.date()}&tz=Europe%2FMadrid\"\n",
        "        data = fetch_json(url)\n",
        "\n",
        "        if data and \"data\" in data and data[\"data\"]:\n",
        "            df = pd.DataFrame(data[\"data\"])\n",
        "            df[\"station\"] = station\n",
        "            all_data.append(df)\n",
        "\n",
        "        current = end + timedelta(days=1)\n",
        "\n",
        "# Guardar todos los datos tal como vinieron (sin limpieza)\n",
        "valid_data = [df for df in all_data if df is not None and isinstance(df, pd.DataFrame)]\n",
        "\n",
        "if valid_data:\n",
        "    df_all = pd.concat(valid_data, ignore_index=True)\n",
        "    df_all.to_csv(\"datos_madrid_2022_2023_meteostat.csv\", index=False)\n",
        "\n",
        "    print(\"Archivo guardado: datos_meteorologicos_madrid_2022_2023_METEOSTAT.csv\")\n",
        "    print(\"Total de filas:\", len(df_all))\n",
        "    print(\"Filas por estación:\")\n",
        "    print(df_all[\"station\"].value_counts())\n",
        "else:\n",
        "    print(\"No se descargaron datos válidos.\")\n"
      ],
      "metadata": {
        "colab": {
          "base_uri": "https://localhost:8080/"
        },
        "id": "_IsLzgIjrjmc",
        "outputId": "a1790e54-f58e-4b4e-d4b5-4c063bb37060"
      },
      "execution_count": 1,
      "outputs": [
        {
          "output_type": "stream",
          "name": "stderr",
          "text": [
            "/tmp/ipython-input-1-1845497801.py:62: FutureWarning: The behavior of DataFrame concatenation with empty or all-NA entries is deprecated. In a future version, this will no longer exclude empty or all-NA columns when determining the result dtypes. To retain the old behavior, exclude the relevant entries before the concat operation.\n",
            "  df_all = pd.concat(valid_data, ignore_index=True)\n"
          ]
        },
        {
          "output_type": "stream",
          "name": "stdout",
          "text": [
            "Archivo guardado: datos_meteorologicos_madrid_2022_2023_METEOSTAT.csv\n",
            "Total de filas: 86184\n",
            "Filas por estación:\n",
            "station\n",
            "08222    17520\n",
            "08223    17520\n",
            "08224    17520\n",
            "08221    17520\n",
            "LEMM0    16104\n",
            "Name: count, dtype: int64\n"
          ]
        }
      ]
    }
  ]
}
